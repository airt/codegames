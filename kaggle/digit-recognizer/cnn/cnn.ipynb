{
 "cells": [
  {
   "cell_type": "code",
   "execution_count": 1,
   "metadata": {},
   "outputs": [],
   "source": [
    "import numpy as np\n",
    "import pandas as pd\n",
    "import matplotlib.pyplot as plt\n",
    "\n",
    "%matplotlib inline\n",
    "\n",
    "np.random.seed(0)"
   ]
  },
  {
   "cell_type": "markdown",
   "metadata": {},
   "source": [
    "## Loading"
   ]
  },
  {
   "cell_type": "code",
   "execution_count": 2,
   "metadata": {},
   "outputs": [
    {
     "data": {
      "text/plain": [
       "(42000, 785)"
      ]
     },
     "execution_count": 2,
     "metadata": {},
     "output_type": "execute_result"
    }
   ],
   "source": [
    "raw_train_data = pd.read_csv('../input/train.csv')\n",
    "raw_train_data.shape"
   ]
  },
  {
   "cell_type": "code",
   "execution_count": 3,
   "metadata": {},
   "outputs": [],
   "source": [
    "images = raw_train_data.values[:, 1:]\n",
    "labels = raw_train_data.values[:, 0]"
   ]
  },
  {
   "cell_type": "markdown",
   "metadata": {},
   "source": [
    "## Preprocessing"
   ]
  },
  {
   "cell_type": "markdown",
   "metadata": {},
   "source": [
    "### Normalization"
   ]
  },
  {
   "cell_type": "code",
   "execution_count": 4,
   "metadata": {},
   "outputs": [],
   "source": [
    "images = images / 255"
   ]
  },
  {
   "cell_type": "markdown",
   "metadata": {},
   "source": [
    "### Reshaping"
   ]
  },
  {
   "cell_type": "code",
   "execution_count": 5,
   "metadata": {},
   "outputs": [],
   "source": [
    "images = images.reshape(-1, 28, 28, 1)"
   ]
  },
  {
   "cell_type": "markdown",
   "metadata": {},
   "source": [
    "### One Hot Encoding"
   ]
  },
  {
   "cell_type": "code",
   "execution_count": 6,
   "metadata": {},
   "outputs": [
    {
     "name": "stderr",
     "output_type": "stream",
     "text": [
      "Using TensorFlow backend.\n"
     ]
    }
   ],
   "source": [
    "from keras.utils.np_utils import to_categorical\n",
    "labels = to_categorical(labels, num_classes=10)"
   ]
  },
  {
   "cell_type": "markdown",
   "metadata": {},
   "source": [
    "### Splitting"
   ]
  },
  {
   "cell_type": "code",
   "execution_count": 7,
   "metadata": {},
   "outputs": [],
   "source": [
    "from sklearn.model_selection import train_test_split\n",
    "train_images, val_images, train_labels, val_labels = train_test_split(images, labels, test_size=0.1)"
   ]
  },
  {
   "cell_type": "markdown",
   "metadata": {},
   "source": [
    "## Training"
   ]
  },
  {
   "cell_type": "markdown",
   "metadata": {},
   "source": [
    "### Instantiating"
   ]
  },
  {
   "cell_type": "code",
   "execution_count": 8,
   "metadata": {},
   "outputs": [],
   "source": [
    "from keras.models import Sequential\n",
    "from keras.layers import Conv2D, Dense, Dropout, Flatten, MaxPool2D"
   ]
  },
  {
   "cell_type": "markdown",
   "metadata": {},
   "source": [
    "`((Conv2D -> ReLU) * 2 -> MaxPool2D -> Dropout) * 2 -> Flatten -> Dense -> Dropout -> Out`"
   ]
  },
  {
   "cell_type": "code",
   "execution_count": 9,
   "metadata": {},
   "outputs": [],
   "source": [
    "model = Sequential()\n",
    "\n",
    "model.add(Conv2D(\n",
    "  filters=32,\n",
    "  kernel_size=(5, 5),\n",
    "  padding='Same',\n",
    "  activation='relu',\n",
    "  input_shape=(28, 28, 1),\n",
    "))\n",
    "model.add(Conv2D(\n",
    "  filters=32,\n",
    "  kernel_size=(5, 5),\n",
    "  padding='Same',\n",
    "  activation='relu',\n",
    "))\n",
    "model.add(MaxPool2D(pool_size=(2, 2)))\n",
    "model.add(Dropout(0.25))\n",
    "\n",
    "model.add(Conv2D(\n",
    "  filters=64,\n",
    "  kernel_size=(3, 3),\n",
    "  padding='Same',\n",
    "  activation='relu'\n",
    "))\n",
    "model.add(Conv2D(\n",
    "  filters=64,\n",
    "  kernel_size=(3, 3),\n",
    "  padding='Same',\n",
    "  activation='relu',\n",
    "))\n",
    "model.add(MaxPool2D(pool_size=(2, 2), strides=(2, 2)))\n",
    "model.add(Dropout(0.25))\n",
    "\n",
    "model.add(Flatten())\n",
    "model.add(Dense(256, activation='relu'))\n",
    "model.add(Dropout(0.5))\n",
    "model.add(Dense(10, activation='softmax'))"
   ]
  },
  {
   "cell_type": "code",
   "execution_count": 10,
   "metadata": {},
   "outputs": [
    {
     "data": {
      "text/plain": [
       "(None, 28, 28, 1)"
      ]
     },
     "execution_count": 10,
     "metadata": {},
     "output_type": "execute_result"
    }
   ],
   "source": [
    "model.input_shape"
   ]
  },
  {
   "cell_type": "code",
   "execution_count": 11,
   "metadata": {},
   "outputs": [
    {
     "data": {
      "text/plain": [
       "(None, 10)"
      ]
     },
     "execution_count": 11,
     "metadata": {},
     "output_type": "execute_result"
    }
   ],
   "source": [
    "model.output_shape"
   ]
  },
  {
   "cell_type": "markdown",
   "metadata": {},
   "source": [
    "### Compiling"
   ]
  },
  {
   "cell_type": "code",
   "execution_count": 12,
   "metadata": {},
   "outputs": [],
   "source": [
    "from keras.optimizers import RMSprop"
   ]
  },
  {
   "cell_type": "code",
   "execution_count": 13,
   "metadata": {},
   "outputs": [],
   "source": [
    "optimizer = RMSprop(lr=1e-3, rho=0.9, epsilon=1e-8, decay=0.0)"
   ]
  },
  {
   "cell_type": "code",
   "execution_count": 14,
   "metadata": {},
   "outputs": [],
   "source": [
    "model.compile(optimizer=optimizer, loss='categorical_crossentropy', metrics=['accuracy'])"
   ]
  },
  {
   "cell_type": "markdown",
   "metadata": {},
   "source": [
    "### Fitting"
   ]
  },
  {
   "cell_type": "code",
   "execution_count": 15,
   "metadata": {},
   "outputs": [],
   "source": [
    "from keras.callbacks import ReduceLROnPlateau\n",
    "from keras.preprocessing.image import ImageDataGenerator"
   ]
  },
  {
   "cell_type": "code",
   "execution_count": 16,
   "metadata": {},
   "outputs": [],
   "source": [
    "epochs = 30\n",
    "batch_size = 86"
   ]
  },
  {
   "cell_type": "code",
   "execution_count": 17,
   "metadata": {},
   "outputs": [],
   "source": [
    "lr_annealer = ReduceLROnPlateau(\n",
    "  monitor='val_acc',\n",
    "  patience=3,\n",
    "  factor=0.5,\n",
    "  min_lr=1e-5,\n",
    "  verbose=1,\n",
    ")"
   ]
  },
  {
   "cell_type": "code",
   "execution_count": 18,
   "metadata": {},
   "outputs": [],
   "source": [
    "datagen = ImageDataGenerator(\n",
    "  featurewise_center=False,\n",
    "  samplewise_center=False,\n",
    "  featurewise_std_normalization=False,\n",
    "  samplewise_std_normalization=False,\n",
    "  zca_whitening=False,\n",
    "  rotation_range=10,\n",
    "  zoom_range=0.1,\n",
    "  width_shift_range=0.1,\n",
    "  height_shift_range=0.1,\n",
    "  horizontal_flip=False,\n",
    "  vertical_flip=False,\n",
    ")\n",
    "datagen.fit(train_images)\n",
    "batches = datagen.flow(train_images, train_labels, batch_size=batch_size)"
   ]
  },
  {
   "cell_type": "code",
   "execution_count": 19,
   "metadata": {},
   "outputs": [
    {
     "name": "stdout",
     "output_type": "stream",
     "text": [
      "Epoch 1/30\n",
      " - 442s - loss: 0.4427 - acc: 0.8563 - val_loss: 0.0592 - val_acc: 0.9814\n",
      "Epoch 2/30\n",
      " - 375s - loss: 0.1455 - acc: 0.9576 - val_loss: 0.0508 - val_acc: 0.9845\n",
      "Epoch 3/30\n",
      " - 388s - loss: 0.1059 - acc: 0.9684 - val_loss: 0.0319 - val_acc: 0.9893\n",
      "Epoch 4/30\n",
      " - 386s - loss: 0.0923 - acc: 0.9735 - val_loss: 0.0369 - val_acc: 0.9871\n",
      "Epoch 5/30\n",
      " - 380s - loss: 0.0802 - acc: 0.9762 - val_loss: 0.0335 - val_acc: 0.9898\n",
      "Epoch 6/30\n",
      " - 378s - loss: 0.0797 - acc: 0.9771 - val_loss: 0.0281 - val_acc: 0.9914\n",
      "Epoch 7/30\n",
      " - 339s - loss: 0.0798 - acc: 0.9775 - val_loss: 0.0275 - val_acc: 0.9926\n",
      "Epoch 8/30\n",
      " - 362s - loss: 0.0748 - acc: 0.9786 - val_loss: 0.0345 - val_acc: 0.9914\n",
      "Epoch 9/30\n",
      " - 371s - loss: 0.0771 - acc: 0.9796 - val_loss: 0.0262 - val_acc: 0.9914\n",
      "Epoch 10/30\n",
      " - 366s - loss: 0.0750 - acc: 0.9797 - val_loss: 0.0346 - val_acc: 0.9907\n",
      "Epoch 11/30\n",
      " - 367s - loss: 0.0736 - acc: 0.9797 - val_loss: 0.0238 - val_acc: 0.9933\n",
      "Epoch 12/30\n",
      " - 338s - loss: 0.0765 - acc: 0.9792 - val_loss: 0.0250 - val_acc: 0.9929\n",
      "Epoch 13/30\n",
      " - 306s - loss: 0.0796 - acc: 0.9791 - val_loss: 0.0304 - val_acc: 0.9905\n",
      "Epoch 14/30\n",
      " - 305s - loss: 0.0778 - acc: 0.9791 - val_loss: 0.0271 - val_acc: 0.9914\n",
      "Epoch 15/30\n",
      " - 307s - loss: 0.0765 - acc: 0.9801 - val_loss: 0.0238 - val_acc: 0.9936\n",
      "Epoch 16/30\n",
      " - 304s - loss: 0.0767 - acc: 0.9798 - val_loss: 0.0276 - val_acc: 0.9907\n",
      "Epoch 17/30\n",
      " - 327s - loss: 0.0817 - acc: 0.9789 - val_loss: 0.0232 - val_acc: 0.9929\n",
      "Epoch 18/30\n",
      " - 472s - loss: 0.0855 - acc: 0.9788 - val_loss: 0.0336 - val_acc: 0.9895\n",
      "Epoch 19/30\n",
      "\n",
      "Epoch 00019: ReduceLROnPlateau reducing learning rate to 0.0005000000237487257.\n",
      " - 456s - loss: 0.0859 - acc: 0.9769 - val_loss: 0.0260 - val_acc: 0.9921\n",
      "Epoch 20/30\n",
      " - 365s - loss: 0.0639 - acc: 0.9832 - val_loss: 0.0214 - val_acc: 0.9933\n",
      "Epoch 21/30\n",
      " - 364s - loss: 0.0622 - acc: 0.9833 - val_loss: 0.0203 - val_acc: 0.9933\n",
      "Epoch 22/30\n",
      " - 363s - loss: 0.0599 - acc: 0.9836 - val_loss: 0.0229 - val_acc: 0.9945\n",
      "Epoch 23/30\n",
      " - 369s - loss: 0.0643 - acc: 0.9827 - val_loss: 0.0228 - val_acc: 0.9933\n",
      "Epoch 24/30\n",
      " - 403s - loss: 0.0626 - acc: 0.9836 - val_loss: 0.0231 - val_acc: 0.9926\n",
      "Epoch 25/30\n",
      " - 427s - loss: 0.0648 - acc: 0.9824 - val_loss: 0.0192 - val_acc: 0.9945\n",
      "Epoch 26/30\n",
      "\n",
      "Epoch 00026: ReduceLROnPlateau reducing learning rate to 0.0002500000118743628.\n",
      " - 398s - loss: 0.0588 - acc: 0.9838 - val_loss: 0.0198 - val_acc: 0.9938\n",
      "Epoch 27/30\n",
      " - 311s - loss: 0.0549 - acc: 0.9864 - val_loss: 0.0186 - val_acc: 0.9945\n",
      "Epoch 28/30\n",
      " - 305s - loss: 0.0533 - acc: 0.9858 - val_loss: 0.0190 - val_acc: 0.9948\n",
      "Epoch 29/30\n",
      " - 304s - loss: 0.0553 - acc: 0.9859 - val_loss: 0.0179 - val_acc: 0.9940\n",
      "Epoch 30/30\n",
      " - 304s - loss: 0.0532 - acc: 0.9856 - val_loss: 0.0231 - val_acc: 0.9952\n"
     ]
    }
   ],
   "source": [
    "history = model.fit_generator(\n",
    "  batches,\n",
    "  steps_per_epoch=train_images.shape[0] // batch_size,\n",
    "  validation_data=(val_images, val_labels),\n",
    "  callbacks=[lr_annealer],\n",
    "  epochs=epochs,\n",
    "  verbose=2,\n",
    ")"
   ]
  },
  {
   "cell_type": "code",
   "execution_count": 20,
   "metadata": {},
   "outputs": [
    {
     "data": {
      "image/png": "[encoded data removed]",
      "text/plain": [
       "<matplotlib.figure.Figure at 0x11448c7b8>"
      ]
     },
     "metadata": {},
     "output_type": "display_data"
    }
   ],
   "source": [
    "fig, ax = plt.subplots(2, 1)\n",
    "ax[0].plot(history.history['loss'], color='b', label='Training Loss')\n",
    "ax[0].plot(history.history['val_loss'], color='r', label='Validation Loss')\n",
    "ax[0].legend(loc='best')\n",
    "ax[1].plot(history.history['acc'], color='b', label='Training Accuracy')\n",
    "ax[1].plot(history.history['val_acc'], color='r', label='Validation Accuracy')\n",
    "ax[1].legend(loc='best');"
   ]
  },
  {
   "cell_type": "markdown",
   "metadata": {},
   "source": [
    "## Predicting"
   ]
  },
  {
   "cell_type": "code",
   "execution_count": 21,
   "metadata": {},
   "outputs": [],
   "source": [
    "test_images = pd.read_csv('../input/test.csv')\n",
    "test_images = test_images.values.reshape(-1, 28, 28, 1)\n",
    "test_images = test_images / 255"
   ]
  },
  {
   "cell_type": "code",
   "execution_count": 22,
   "metadata": {},
   "outputs": [],
   "source": [
    "predictions = model.predict_classes(test_images)"
   ]
  },
  {
   "cell_type": "markdown",
   "metadata": {},
   "source": [
    "## Saving"
   ]
  },
  {
   "cell_type": "code",
   "execution_count": 23,
   "metadata": {},
   "outputs": [],
   "source": [
    "df = pd.DataFrame(predictions)\n",
    "df.index += 1\n",
    "df.index.name = 'ImageId'\n",
    "df.columns = ['Label']\n",
    "df.to_csv('results.csv')"
   ]
  },
  {
   "cell_type": "markdown",
   "metadata": {},
   "source": []
  }
 ],
 "metadata": {
  "kernelspec": {
   "display_name": "Python 3",
   "language": "python",
   "name": "python3"
  },
  "language_info": {
   "codemirror_mode": {
    "name": "ipython",
    "version": 3
   },
   "file_extension": ".py",
   "mimetype": "text/x-python",
   "name": "python",
   "nbconvert_exporter": "python",
   "pygments_lexer": "ipython3",
   "version": "3.6.4"
  },
  "toc": {
   "colors": {
    "hover_highlight": "#DAA520",
    "navigate_num": "#000000",
    "navigate_text": "#333333",
    "running_highlight": "#FF0000",
    "selected_highlight": "#FFD700",
    "sidebar_border": "#EEEEEE",
    "wrapper_background": "#FFFFFF"
   },
   "moveMenuLeft": true,
   "nav_menu": {
    "height": "12px",
    "width": "252px"
   },
   "navigate_menu": true,
   "number_sections": true,
   "sideBar": true,
   "threshold": 4,
   "toc_cell": false,
   "toc_section_display": "block",
   "toc_window_display": false,
   "widenNotebook": false
  }
 },
 "nbformat": 4,
 "nbformat_minor": 2
}
